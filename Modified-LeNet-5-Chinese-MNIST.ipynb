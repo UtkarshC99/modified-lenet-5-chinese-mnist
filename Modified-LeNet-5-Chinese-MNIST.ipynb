{
 "cells": [
  {
   "cell_type": "markdown",
   "metadata": {
    "papermill": {
     "duration": 0.029544,
     "end_time": "2020-10-19T20:05:02.292924",
     "exception": false,
     "start_time": "2020-10-19T20:05:02.263380",
     "status": "completed"
    },
    "tags": []
   },
   "source": [
    "# Chinese Numbers MNIST\n",
    "\n",
    "The <a href=\"https://www.kaggle.com/c/mnist-but-chinese/data\" target =\"_blank\">dataset used</a> for this notebook was given as part of a <a href=\"https://www.kaggle.com/c/mnist-but-chinese/leaderboard\" target =\"_blank\">Kaggle hackathon</a> by the **Consulting and Analytics Club, IIT Guwahati**  - of which I am a part. Originally collected by professors at the **Newcastle University**, it represents 10,000 training images and 5,000 test-set images. These are Chinese numerals, and are coded in the `.csv` files with the following convention:\n",
    "    \n",
    "    code ==> Number in image\n",
    "    1. 1 ==> 0\n",
    "    2. 2 ==> 1\n",
    "    3. 3 ==> 2\n",
    "    4. 4 ==> 3\n",
    "    5. 5 ==> 4\n",
    "    6. 6 ==> 5\n",
    "    7. 7 ==> 6\n",
    "    8. 8 ==> 7\n",
    "    9. 9 ==> 8\n",
    "    10. 10 ==> 9\n",
    "    11. 11 ==> 10\n",
    "    12. 12 ==> 100\n",
    "    13. 13 ==> 1,000\n",
    "    14. 14 ==> 10,000\n",
    "    15. 15 ==> 100,000,000\n",
    "    \n",
    "The implementation in this notebook has been done in `PyTorch`, and uses a modified version of the `LeNet-5` CNN architecture (<a href = \"http://yann.lecun.com/exdb/publis/pdf/lecun-98.pdf\" target = \"_blank\">original paper from 1998</a>) that I've explained later in the notebook.\n",
    "\n",
    "It takes \"a while\" to train on a CPU, which is why training on a GPU is advised. It is assumed the reader is aware of the associated syntax and may consider adding the relevant changes - if needed and wherever required. \n",
    "\n",
    "Alternatively, I could run this NB on the Colab kernel, but I haven't been able to figure out a reliable way to import all the required data while working there. Please do mention in the comments if you have a way to do that."
   ]
  },
  {
   "cell_type": "markdown",
   "metadata": {
    "papermill": {
     "duration": 0.026585,
     "end_time": "2020-10-19T20:05:02.346429",
     "exception": false,
     "start_time": "2020-10-19T20:05:02.319844",
     "status": "completed"
    },
    "tags": []
   },
   "source": [
    "# Importing the relevant libraries\n",
    "\n",
    "Some of the libraries I know that I'll be using right off the bat. A few might not even be required, but I'll keep them in the cell, because that gives an insight into my thought-process while making the model. Considering it'll increase the time taken to run the cell, not a very ideal thing to do - but few things in this world are."
   ]
  },
  {
   "cell_type": "code",
   "execution_count": 1,
   "metadata": {
    "execution": {
     "iopub.execute_input": "2020-10-19T20:05:02.405441Z",
     "iopub.status.busy": "2020-10-19T20:05:02.404782Z",
     "iopub.status.idle": "2020-10-19T20:05:04.874729Z",
     "shell.execute_reply": "2020-10-19T20:05:04.873656Z"
    },
    "papermill": {
     "duration": 2.501725,
     "end_time": "2020-10-19T20:05:04.874850",
     "exception": false,
     "start_time": "2020-10-19T20:05:02.373125",
     "status": "completed"
    },
    "tags": []
   },
   "outputs": [],
   "source": [
    "import torch\n",
    "import torchvision\n",
    "from PIL import Image\n",
    "import torch.nn\n",
    "import numpy as np\n",
    "import random\n",
    "import pandas as pd\n",
    "import matplotlib.pyplot as plt\n",
    "from sklearn.model_selection import train_test_split as tts"
   ]
  },
  {
   "cell_type": "markdown",
   "metadata": {
    "papermill": {
     "duration": 0.026661,
     "end_time": "2020-10-19T20:05:04.930263",
     "exception": false,
     "start_time": "2020-10-19T20:05:04.903602",
     "status": "completed"
    },
    "tags": []
   },
   "source": [
    "Confirming if the GPU is available for training:"
   ]
  },
  {
   "cell_type": "code",
   "execution_count": 2,
   "metadata": {
    "execution": {
     "iopub.execute_input": "2020-10-19T20:05:05.355178Z",
     "iopub.status.busy": "2020-10-19T20:05:05.354465Z",
     "iopub.status.idle": "2020-10-19T20:05:05.359680Z",
     "shell.execute_reply": "2020-10-19T20:05:05.360231Z"
    },
    "papermill": {
     "duration": 0.403028,
     "end_time": "2020-10-19T20:05:05.360378",
     "exception": false,
     "start_time": "2020-10-19T20:05:04.957350",
     "status": "completed"
    },
    "tags": []
   },
   "outputs": [
    {
     "data": {
      "text/plain": [
       "True"
      ]
     },
     "execution_count": 2,
     "metadata": {},
     "output_type": "execute_result"
    }
   ],
   "source": [
    "torch.cuda.is_available()"
   ]
  },
  {
   "cell_type": "markdown",
   "metadata": {
    "papermill": {
     "duration": 0.027524,
     "end_time": "2020-10-19T20:05:05.416604",
     "exception": false,
     "start_time": "2020-10-19T20:05:05.389080",
     "status": "completed"
    },
    "tags": []
   },
   "source": [
    "Excellent :)))))"
   ]
  },
  {
   "cell_type": "markdown",
   "metadata": {
    "papermill": {
     "duration": 0.027427,
     "end_time": "2020-10-19T20:05:05.471488",
     "exception": false,
     "start_time": "2020-10-19T20:05:05.444061",
     "status": "completed"
    },
    "tags": []
   },
   "source": [
    "# Visualising what I'm dealing with\n",
    "\n",
    "The following cell plots a set of five random samples from the `Training_Data` folder. This'll help identify basic truths about the image data that I'll be dealing with."
   ]
  },
  {
   "cell_type": "code",
   "execution_count": 3,
   "metadata": {
    "execution": {
     "iopub.execute_input": "2020-10-19T20:05:05.539355Z",
     "iopub.status.busy": "2020-10-19T20:05:05.538730Z",
     "iopub.status.idle": "2020-10-19T20:05:06.239301Z",
     "shell.execute_reply": "2020-10-19T20:05:06.238657Z"
    },
    "papermill": {
     "duration": 0.740435,
     "end_time": "2020-10-19T20:05:06.239425",
     "exception": false,
     "start_time": "2020-10-19T20:05:05.498990",
     "status": "completed"
    },
    "scrolled": false,
    "tags": []
   },
   "outputs": [
    {
     "name": "stdout",
     "output_type": "stream",
     "text": [
      "JPEG\n",
      "(64, 64)\n"
     ]
    },
    {
     "data": {
      "image/png": "[encoded data removed]",
      "text/plain": [
       "<Figure size 432x288 with 1 Axes>"
      ]
     },
     "metadata": {
      "needs_background": "light"
     },
     "output_type": "display_data"
    },
    {
     "name": "stdout",
     "output_type": "stream",
     "text": [
      "151 ,  0\n",
      "JPEG\n",
      "(64, 64)\n"
     ]
    },
    {
     "data": {
      "image/png": "[encoded data removed]",
      "text/plain": [
       "<Figure size 432x288 with 1 Axes>"
      ]
     },
     "metadata": {
      "needs_background": "light"
     },
     "output_type": "display_data"
    },
    {
     "name": "stdout",
     "output_type": "stream",
     "text": [
      "184 ,  1\n",
      "JPEG\n",
      "(64, 64)\n"
     ]
    },
    {
     "data": {
      "image/png": "[encoded data removed]",
      "text/plain": [
       "<Figure size 432x288 with 1 Axes>"
      ]
     },
     "metadata": {
      "needs_background": "light"
     },
     "output_type": "display_data"
    },
    {
     "name": "stdout",
     "output_type": "stream",
     "text": [
      "196 ,  2\n",
      "JPEG\n",
      "(64, 64)\n"
     ]
    },
    {
     "data": {
      "image/png": "[encoded data removed]",
      "text/plain": [
       "<Figure size 432x288 with 1 Axes>"
      ]
     },
     "metadata": {
      "needs_background": "light"
     },
     "output_type": "display_data"
    },
    {
     "name": "stdout",
     "output_type": "stream",
     "text": [
      "175 ,  3\n"
     ]
    }
   ],
   "source": [
    "%matplotlib inline\n",
    "\n",
    "for i in range(0, 4):\n",
    "    image = Image.open('../input/mnist-but-chinese/MNIST_Chinese_Hackathon/Training_Data/' \n",
    "                       + str(random.randint(1000*i, 1000*(i+2))))\n",
    "    print(image.format)\n",
    "    arr = np.array(image)\n",
    "    print(arr.shape)\n",
    "    plt.imshow(arr)\n",
    "    plt.show()\n",
    "    print(arr.max(), ', ', i)"
   ]
  },
  {
   "cell_type": "markdown",
   "metadata": {
    "papermill": {
     "duration": 0.033786,
     "end_time": "2020-10-19T20:05:06.307187",
     "exception": false,
     "start_time": "2020-10-19T20:05:06.273401",
     "status": "completed"
    },
    "tags": []
   },
   "source": [
    "This clearly shows that:\n",
    "1. the image is `64x64` (from `print(arr.shape)`)\n",
    "2. grayscale (from the fact that there's only one channel - nevermind what you see. `pyplot.plot` colormaps aren't the most reliable)\n",
    "3. is a `JPEG` (self-evident from the o/p. Less evident from the beautiful `JPEG` artifacts, but evident nonetheless)\n",
    "\n",
    "From the max pixel value, it is fairly certain the range of intensities will be `0-255`."
   ]
  },
  {
   "cell_type": "markdown",
   "metadata": {
    "papermill": {
     "duration": 0.031918,
     "end_time": "2020-10-19T20:05:06.371186",
     "exception": false,
     "start_time": "2020-10-19T20:05:06.339268",
     "status": "completed"
    },
    "tags": []
   },
   "source": [
    "# Importing training labels\n",
    "\n",
    "`train.csv` contains 2 columns: `id` - which gives the name of the image in the `Training_Data` folder, and `code` - which contains the true encodings of the character in the image (as written in the introduction).\n",
    "\n",
    "`test.csv` will be used towards the end. It has only one column: `id`."
   ]
  },
  {
   "cell_type": "code",
   "execution_count": 4,
   "metadata": {
    "execution": {
     "iopub.execute_input": "2020-10-19T20:05:06.445322Z",
     "iopub.status.busy": "2020-10-19T20:05:06.444706Z",
     "iopub.status.idle": "2020-10-19T20:05:06.464494Z",
     "shell.execute_reply": "2020-10-19T20:05:06.463953Z"
    },
    "papermill": {
     "duration": 0.061285,
     "end_time": "2020-10-19T20:05:06.464589",
     "exception": false,
     "start_time": "2020-10-19T20:05:06.403304",
     "status": "completed"
    },
    "tags": []
   },
   "outputs": [],
   "source": [
    "train = pd.read_csv('../input/mnist-but-chinese/MNIST_Chinese_Hackathon/train.csv')\n",
    "test = pd.read_csv('../input/mnist-but-chinese/MNIST_Chinese_Hackathon/test.csv')"
   ]
  },
  {
   "cell_type": "code",
   "execution_count": 5,
   "metadata": {
    "execution": {
     "iopub.execute_input": "2020-10-19T20:05:06.548684Z",
     "iopub.status.busy": "2020-10-19T20:05:06.547802Z",
     "iopub.status.idle": "2020-10-19T20:05:06.558155Z",
     "shell.execute_reply": "2020-10-19T20:05:06.559268Z"
    },
    "papermill": {
     "duration": 0.061987,
     "end_time": "2020-10-19T20:05:06.559449",
     "exception": false,
     "start_time": "2020-10-19T20:05:06.497462",
     "status": "completed"
    },
    "tags": []
   },
   "outputs": [
    {
     "data": {
      "text/plain": [
       "15    667\n",
       "14    667\n",
       "13    667\n",
       "12    667\n",
       "4     667\n",
       "11    667\n",
       "3     667\n",
       "10    667\n",
       "2     667\n",
       "1     667\n",
       "7     666\n",
       "6     666\n",
       "5     666\n",
       "9     666\n",
       "8     666\n",
       "Name: code, dtype: int64"
      ]
     },
     "execution_count": 5,
     "metadata": {},
     "output_type": "execute_result"
    }
   ],
   "source": [
    "train.code.value_counts()"
   ]
  },
  {
   "cell_type": "markdown",
   "metadata": {
    "papermill": {
     "duration": 0.032695,
     "end_time": "2020-10-19T20:05:06.627629",
     "exception": false,
     "start_time": "2020-10-19T20:05:06.594934",
     "status": "completed"
    },
    "tags": []
   },
   "source": [
    "So the training set is pretty uniform, thankfully. No further preprocessing is required on this at least. Scrumptious.\n",
    "\n",
    "Also a good thing because the training will be done pretty uniformly, which is good news for the model's generalisability."
   ]
  },
  {
   "cell_type": "markdown",
   "metadata": {
    "papermill": {
     "duration": 0.032413,
     "end_time": "2020-10-19T20:05:06.692576",
     "exception": false,
     "start_time": "2020-10-19T20:05:06.660163",
     "status": "completed"
    },
    "tags": []
   },
   "source": [
    "# Importing the raw image data (into Numpy)\n",
    "\n",
    "And performing necessary preprocessing on it:\n",
    "\n",
    "1. **putting it into a `NumPy` array**: to ease mathematical operations\n",
    "2. **scaling**: brings the pixel values from `[0, 255]` to `[0, 1]`\n",
    "3. **Mean-normalisation**: brings the pixel values from `[0, 1]` to `[-1, 1]`"
   ]
  },
  {
   "cell_type": "code",
   "execution_count": 6,
   "metadata": {
    "execution": {
     "iopub.execute_input": "2020-10-19T20:05:06.766312Z",
     "iopub.status.busy": "2020-10-19T20:05:06.765691Z",
     "iopub.status.idle": "2020-10-19T20:05:39.665146Z",
     "shell.execute_reply": "2020-10-19T20:05:39.664548Z"
    },
    "papermill": {
     "duration": 32.940022,
     "end_time": "2020-10-19T20:05:39.665266",
     "exception": false,
     "start_time": "2020-10-19T20:05:06.725244",
     "status": "completed"
    },
    "tags": []
   },
   "outputs": [],
   "source": [
    "X_train = []\n",
    "\n",
    "for i in train.id:\n",
    "    img = Image.open('../input/mnist-but-chinese/MNIST_Chinese_Hackathon/Training_Data/' + str(i))\n",
    "    img_n = np.asarray(img)\n",
    "    img_n = img_n/255\n",
    "    img_n = (img_n - 0.5)/0.5\n",
    "    X_train.append(img_n)    \n",
    "\n",
    "y_train = train.code"
   ]
  },
  {
   "cell_type": "markdown",
   "metadata": {
    "papermill": {
     "duration": 0.033681,
     "end_time": "2020-10-19T20:05:39.733255",
     "exception": false,
     "start_time": "2020-10-19T20:05:39.699574",
     "status": "completed"
    },
    "tags": []
   },
   "source": [
    "`mean` and `std_dev` were taken as `0.5` and `0.5` - since the pixel values were scaled from `[0, 255]` to `[0, 1]`. I could go on and use the actual mean and standard deviation of the dataset, but this seems to work fine. I might try using that in the future and check what effect it has on the accuracy and loss landscape."
   ]
  },
  {
   "cell_type": "code",
   "execution_count": 7,
   "metadata": {
    "execution": {
     "iopub.execute_input": "2020-10-19T20:05:39.807463Z",
     "iopub.status.busy": "2020-10-19T20:05:39.806245Z",
     "iopub.status.idle": "2020-10-19T20:05:39.983369Z",
     "shell.execute_reply": "2020-10-19T20:05:39.983876Z"
    },
    "papermill": {
     "duration": 0.21709,
     "end_time": "2020-10-19T20:05:39.984011",
     "exception": false,
     "start_time": "2020-10-19T20:05:39.766921",
     "status": "completed"
    },
    "scrolled": false,
    "tags": []
   },
   "outputs": [
    {
     "name": "stdout",
     "output_type": "stream",
     "text": [
      "Train set dims =  (10000, 64, 64)\n"
     ]
    }
   ],
   "source": [
    "X_train = np.array(X_train)\n",
    "X_train = X_train.astype(np.float32)\n",
    "\n",
    "y_train = np.array(y_train)\n",
    "y_train = y_train.astype(np.float32)\n",
    "y_train = y_train - 1 # to make the labels go from 0-14, to be consistent with Python's indexing convention for the softmax fn\n",
    "\n",
    "print('Train set dims = ', (X_train.shape))"
   ]
  },
  {
   "cell_type": "markdown",
   "metadata": {
    "papermill": {
     "duration": 0.033842,
     "end_time": "2020-10-19T20:05:40.053725",
     "exception": false,
     "start_time": "2020-10-19T20:05:40.019883",
     "status": "completed"
    },
    "tags": []
   },
   "source": [
    "These shapes confirm that the array is 64x64 in shape, with the training set having 10k samples.\n",
    "\n",
    "Now for a final look at the `X_train` array, to verify whether I've loaded the images correctly:"
   ]
  },
  {
   "cell_type": "code",
   "execution_count": 8,
   "metadata": {
    "execution": {
     "iopub.execute_input": "2020-10-19T20:05:40.137407Z",
     "iopub.status.busy": "2020-10-19T20:05:40.136182Z",
     "iopub.status.idle": "2020-10-19T20:05:40.665023Z",
     "shell.execute_reply": "2020-10-19T20:05:40.665535Z"
    },
    "papermill": {
     "duration": 0.578121,
     "end_time": "2020-10-19T20:05:40.665667",
     "exception": false,
     "start_time": "2020-10-19T20:05:40.087546",
     "status": "completed"
    },
    "scrolled": false,
    "tags": []
   },
   "outputs": [
    {
     "data": {
      "text/plain": [
       "(<matplotlib.axes._subplots.AxesSubplot at 0x7f33ca8e0e10>,\n",
       " <matplotlib.image.AxesImage at 0x7f33ca925290>)"
      ]
     },
     "execution_count": 8,
     "metadata": {},
     "output_type": "execute_result"
    },
    {
     "data": {
      "image/png": "[encoded data removed]",
      "text/plain": [
       "<Figure size 720x720 with 4 Axes>"
      ]
     },
     "metadata": {
      "needs_background": "light"
     },
     "output_type": "display_data"
    }
   ],
   "source": [
    "plt.figure(figsize=(10,10))\n",
    "plt.subplot(2, 2, 1), plt.imshow(X_train[random.randint(1, 2500)], cmap='gray')\n",
    "plt.subplot(2, 2, 2), plt.imshow(X_train[random.randint(2501, 5000)], cmap='gray')\n",
    "plt.subplot(2, 2, 3), plt.imshow(X_train[random.randint(5001, 7500)], cmap='gray')\n",
    "plt.subplot(2, 2, 4), plt.imshow(X_train[random.randint(7501, 10000)], cmap='gray')"
   ]
  },
  {
   "cell_type": "code",
   "execution_count": 9,
   "metadata": {
    "execution": {
     "iopub.execute_input": "2020-10-19T20:05:40.742630Z",
     "iopub.status.busy": "2020-10-19T20:05:40.741833Z",
     "iopub.status.idle": "2020-10-19T20:05:40.746588Z",
     "shell.execute_reply": "2020-10-19T20:05:40.746127Z"
    },
    "papermill": {
     "duration": 0.04432,
     "end_time": "2020-10-19T20:05:40.746681",
     "exception": false,
     "start_time": "2020-10-19T20:05:40.702361",
     "status": "completed"
    },
    "tags": []
   },
   "outputs": [
    {
     "data": {
      "text/plain": [
       "(10000, 64, 64)"
      ]
     },
     "execution_count": 9,
     "metadata": {},
     "output_type": "execute_result"
    }
   ],
   "source": [
    "X_train.shape"
   ]
  },
  {
   "cell_type": "code",
   "execution_count": 10,
   "metadata": {
    "execution": {
     "iopub.execute_input": "2020-10-19T20:05:40.824010Z",
     "iopub.status.busy": "2020-10-19T20:05:40.822463Z",
     "iopub.status.idle": "2020-10-19T20:05:40.824751Z",
     "shell.execute_reply": "2020-10-19T20:05:40.825241Z"
    },
    "papermill": {
     "duration": 0.042235,
     "end_time": "2020-10-19T20:05:40.825351",
     "exception": false,
     "start_time": "2020-10-19T20:05:40.783116",
     "status": "completed"
    },
    "tags": []
   },
   "outputs": [],
   "source": [
    "from torch import nn\n",
    "from torch import optim"
   ]
  },
  {
   "cell_type": "markdown",
   "metadata": {
    "papermill": {
     "duration": 0.035602,
     "end_time": "2020-10-19T20:05:40.897592",
     "exception": false,
     "start_time": "2020-10-19T20:05:40.861990",
     "status": "completed"
    },
    "tags": []
   },
   "source": [
    "# Implementing a (very) modified `LeNet-5` architecture\n",
    "\n",
    "1. `3x3` conv, stride = `1` (`6` filters)\n",
    "2. `3x3` conv, stride = `1` (`6` filters)\n",
    "3. Max pooling, f = `2`, s = `2`\n",
    "4. `3x3` conv, stride = `1` (`16` filters)\n",
    "5. Max pooling, f = `2`, s = `2`\n",
    "6. FCL (`500` units)\n",
    "7. FCL (`90` units)\n",
    "8. Output layer (`15` units) "
   ]
  },
  {
   "cell_type": "markdown",
   "metadata": {
    "papermill": {
     "duration": 0.042316,
     "end_time": "2020-10-19T20:05:40.978026",
     "exception": false,
     "start_time": "2020-10-19T20:05:40.935710",
     "status": "completed"
    },
    "tags": []
   },
   "source": [
    "# Differences from the original `LeNet-5` paper:\n",
    "\n",
    "**1.** instead of average pooling, **max pooling** is used\n",
    "\n",
    "**2.** instead of `sigmoid` and `tanh` non-linearities, **`ReLU`** is used\n",
    "\n",
    "**3.** The number of units in each FCL is decided as per the 64x64 **size of the image data**, and also on the **nature of the characters used** in the Chinese language. The following were the justifications made in the original paper:\n",
    "\n",
    "\n",
    "   * The original `LeNet-5` paper specified that the first \"full-connected layer\" with `120` units <u>was in fact a convolution layer</u>, but since the kernel size matched the input size for that layer, it <u>functioned as a full-connected layer</u>. Here, **I explicitly state it as a FCL**, and <u>made it to have 500 units to capture **the finer details of Chinese writing**</u>.\n",
    "   * The choice of `84` units for the next FCL was based on the fact that <u>this model could be used to identify characters from a `7x12` bitmap</u> - not necessarily numerals but also \"stylised characters\", as they were called in the original paper.\n",
    " \n",
    "**4.** the kernel size is now `3x3` - since Chinese is a language with fine and distinct strokes, <u>which might be blurred and thus, hidden if I use a larger kernel</u>.\n",
    "\n",
    "**5.** the first `5x5` convolution is replaced by 2 consecutive `3x3` convolutions, to:\n",
    "\n",
    "  * <u>increase non-linearities</u> in the network, since there is an extra layer now. This helps to make the model a tiny bit more robust.\n",
    "  \n",
    "  * decrease number of trainable parameters, which <u>reduces overfitting</u> in the model and <u>increases computational efficiency</u>."
   ]
  },
  {
   "cell_type": "code",
   "execution_count": 11,
   "metadata": {
    "execution": {
     "iopub.execute_input": "2020-10-19T20:05:41.104422Z",
     "iopub.status.busy": "2020-10-19T20:05:41.103371Z",
     "iopub.status.idle": "2020-10-19T20:05:41.121546Z",
     "shell.execute_reply": "2020-10-19T20:05:41.122508Z"
    },
    "papermill": {
     "duration": 0.095929,
     "end_time": "2020-10-19T20:05:41.122719",
     "exception": false,
     "start_time": "2020-10-19T20:05:41.026790",
     "status": "completed"
    },
    "tags": []
   },
   "outputs": [],
   "source": [
    "class Net(nn.Module):   \n",
    "    def __init__(self):\n",
    "        super(Net, self).__init__()\n",
    "        self.conv_layers = nn.Sequential(\n",
    "\n",
    "            nn.Conv2d(1, 6, kernel_size=3, stride=1, padding=0),\n",
    "#             nn.LeakyReLU(0.01),\n",
    "            nn.ReLU(inplace = True),\n",
    "            \n",
    "            nn.Conv2d(6, 6, kernel_size=3, stride=1, padding=0),\n",
    "#             nn.LeakyReLU(0.01),\n",
    "            nn.ReLU(inplace = True),    \n",
    "            nn.MaxPool2d(kernel_size=2, stride=2),\n",
    "      \n",
    "            nn.Conv2d(6, 16, kernel_size=3, stride=1, padding=0),\n",
    "#             nn.LeakyReLU(0.01),\n",
    "            nn.ReLU(inplace = True),  \n",
    "            nn.MaxPool2d(kernel_size=2, stride=2) \n",
    "      )\n",
    "\n",
    "        self.FCL = nn.Sequential(\n",
    "            nn.Linear(3136, 500),\n",
    "#             nn.LeakyReLU(0.01),\n",
    "            nn.ReLU(inplace = True),\n",
    "            nn.Linear(500, 90),\n",
    "#             nn.LeakyReLU(0.01),\n",
    "            nn.ReLU(inplace = True),\n",
    "            nn.Linear(90, 15)\n",
    "#             nn.Softmax(dim = 1)\n",
    "      )\n",
    "\n",
    "    def forward(self, x):\n",
    "        x = self.conv_layers(x)\n",
    "        x = x.reshape(x.size(0), -1)\n",
    "        x = self.FCL(x)\n",
    "        return x"
   ]
  },
  {
   "cell_type": "markdown",
   "metadata": {
    "papermill": {
     "duration": 0.063825,
     "end_time": "2020-10-19T20:05:41.248753",
     "exception": false,
     "start_time": "2020-10-19T20:05:41.184928",
     "status": "completed"
    },
    "tags": []
   },
   "source": [
    "# Choice of optimiser and loss function\n",
    "\n",
    "The ***optimiser*** used is `optim.Adam`, with a learning-rate of `0.001`, which is one of the better choices as per <a href = \"https://medium.com/octavian-ai/which-optimizer-and-learning-rate-should-i-use-for-deep-learning-5acb418f9b2\" target=\"_blank\">this Medium article</a>. The Adam optimiser is generally deemed to converge faster than stochastic gradient descent, which is a major point in its favour.\n",
    "\n",
    "The ***loss function*** used is `nn.CrossEntropyLoss` since this is a multi-class classification problem. Since it inherently includes a `softmax` operation, I didn't include a separate `softmax` layer in my network architecture earlier. It'll be included later on while making the predictions, along with `np.argmax`."
   ]
  },
  {
   "cell_type": "code",
   "execution_count": 12,
   "metadata": {
    "execution": {
     "iopub.execute_input": "2020-10-19T20:05:41.376894Z",
     "iopub.status.busy": "2020-10-19T20:05:41.375770Z",
     "iopub.status.idle": "2020-10-19T20:05:45.663321Z",
     "shell.execute_reply": "2020-10-19T20:05:45.664169Z"
    },
    "papermill": {
     "duration": 4.354746,
     "end_time": "2020-10-19T20:05:45.664365",
     "exception": false,
     "start_time": "2020-10-19T20:05:41.309619",
     "status": "completed"
    },
    "tags": []
   },
   "outputs": [
    {
     "name": "stdout",
     "output_type": "stream",
     "text": [
      "Net(\n",
      "  (conv_layers): Sequential(\n",
      "    (0): Conv2d(1, 6, kernel_size=(3, 3), stride=(1, 1))\n",
      "    (1): ReLU(inplace=True)\n",
      "    (2): Conv2d(6, 6, kernel_size=(3, 3), stride=(1, 1))\n",
      "    (3): ReLU(inplace=True)\n",
      "    (4): MaxPool2d(kernel_size=2, stride=2, padding=0, dilation=1, ceil_mode=False)\n",
      "    (5): Conv2d(6, 16, kernel_size=(3, 3), stride=(1, 1))\n",
      "    (6): ReLU(inplace=True)\n",
      "    (7): MaxPool2d(kernel_size=2, stride=2, padding=0, dilation=1, ceil_mode=False)\n",
      "  )\n",
      "  (FCL): Sequential(\n",
      "    (0): Linear(in_features=3136, out_features=500, bias=True)\n",
      "    (1): ReLU(inplace=True)\n",
      "    (2): Linear(in_features=500, out_features=90, bias=True)\n",
      "    (3): ReLU(inplace=True)\n",
      "    (4): Linear(in_features=90, out_features=15, bias=True)\n",
      "  )\n",
      ")\n"
     ]
    }
   ],
   "source": [
    "model = Net()\n",
    "optimizer = optim.Adam(model.parameters(), lr=0.001)\n",
    "criterion = nn.CrossEntropyLoss()\n",
    "\n",
    "if torch.cuda.is_available():\n",
    "    model = model.cuda()\n",
    "    criterion = criterion.cuda()\n",
    "    \n",
    "print(model)"
   ]
  },
  {
   "cell_type": "markdown",
   "metadata": {
    "papermill": {
     "duration": 0.039394,
     "end_time": "2020-10-19T20:05:45.745125",
     "exception": false,
     "start_time": "2020-10-19T20:05:45.705731",
     "status": "completed"
    },
    "tags": []
   },
   "source": [
    "Now to finally train the model on the entire training set:"
   ]
  },
  {
   "cell_type": "code",
   "execution_count": 13,
   "metadata": {
    "execution": {
     "iopub.execute_input": "2020-10-19T20:05:45.830634Z",
     "iopub.status.busy": "2020-10-19T20:05:45.829668Z",
     "iopub.status.idle": "2020-10-19T20:05:45.832713Z",
     "shell.execute_reply": "2020-10-19T20:05:45.832092Z"
    },
    "papermill": {
     "duration": 0.048195,
     "end_time": "2020-10-19T20:05:45.832813",
     "exception": false,
     "start_time": "2020-10-19T20:05:45.784618",
     "status": "completed"
    },
    "tags": []
   },
   "outputs": [],
   "source": [
    "X_train = X_train.reshape(10000, 1, 64, 64)\n",
    "X_train  = torch.from_numpy(X_train)\n",
    "y_train = y_train.astype(int)\n",
    "y_train = torch.from_numpy(y_train)"
   ]
  },
  {
   "cell_type": "markdown",
   "metadata": {
    "papermill": {
     "duration": 0.038225,
     "end_time": "2020-10-19T20:05:45.914101",
     "exception": false,
     "start_time": "2020-10-19T20:05:45.875876",
     "status": "completed"
    },
    "tags": []
   },
   "source": [
    "# Training the model, setting no. of epochs\n",
    "\n",
    "### *NOTE: the following cell WILL take a lot of time to execute, if you're using a CPU.*\n",
    "\n",
    "*You may skip it if you wish, or use a GPU to speed up the training. I achieved an accuracy of about `93.5%` on <a href=\"https://www.kaggle.com/c/mnist-but-chinese/leaderboard\" target=\"_blank\">the competition leaderboard</a> at around `16-17` epochs, so you may stop there, or push forward to see the effect of a longer training duration on the model's generalisability.*\n",
    "\n",
    "This cell will show the `CrossEntropy` losses after every epoch (i.e. a full pass of the entire training set of 10,000 samples) It can be modified suitably to show changes in loss when the model is in-between epochs, though this will necessitate changes to the plotting function too."
   ]
  },
  {
   "cell_type": "code",
   "execution_count": 14,
   "metadata": {
    "execution": {
     "iopub.execute_input": "2020-10-19T20:05:46.001819Z",
     "iopub.status.busy": "2020-10-19T20:05:46.000744Z",
     "iopub.status.idle": "2020-10-19T20:13:58.618541Z",
     "shell.execute_reply": "2020-10-19T20:13:58.619230Z"
    },
    "papermill": {
     "duration": 492.666909,
     "end_time": "2020-10-19T20:13:58.619386",
     "exception": false,
     "start_time": "2020-10-19T20:05:45.952477",
     "status": "completed"
    },
    "tags": []
   },
   "outputs": [
    {
     "name": "stdout",
     "output_type": "stream",
     "text": [
      "[1, 10000] loss: 1.0905056\n",
      "[2, 10000] loss: 0.2928257\n",
      "[3, 10000] loss: 0.1474837\n",
      "[4, 10000] loss: 0.0983169\n",
      "[5, 10000] loss: 0.0810774\n",
      "[6, 10000] loss: 0.0703672\n",
      "[7, 10000] loss: 0.0641143\n",
      "[8, 10000] loss: 0.0585473\n",
      "[9, 10000] loss: 0.0522927\n",
      "[10, 10000] loss: 0.0618995\n",
      "[11, 10000] loss: 0.0578610\n",
      "[12, 10000] loss: 0.0505022\n",
      "[13, 10000] loss: 0.0567043\n",
      "[14, 10000] loss: 0.0486654\n",
      "[15, 10000] loss: 0.0558702\n"
     ]
    }
   ],
   "source": [
    "losses = []\n",
    "runs = []\n",
    "\n",
    "for epoch in range(15):\n",
    "    running_loss = 0\n",
    "    for i in range(len(X_train)):\n",
    "\n",
    "        if torch.cuda.is_available():\n",
    "            X_train[i] = X_train[i].cuda()\n",
    "            y_train[i] = y_train[i].cuda()\n",
    "\n",
    "        optimizer.zero_grad()\n",
    "        X_train[i] = X_train[i].unsqueeze_(0)\n",
    "        y_train[i] = y_train[i].unsqueeze_(0)\n",
    "        output = model(X_train[i][None, ...].cuda()) \n",
    "\n",
    "        loss = criterion(output, y_train[[i]].long().cuda())     \n",
    "        loss.backward()\n",
    "        optimizer.step()\n",
    "        \n",
    "        running_loss += loss.item()\n",
    "        if i % 10000 == 9999:\n",
    "            print('[%d, %5d] loss: %.7f' %\n",
    "                  (epoch + 1, i + 1, running_loss / 10000))\n",
    "            losses.append(running_loss/10000)\n",
    "            runs.append(epoch)\n",
    "            running_loss = 0.0"
   ]
  },
  {
   "cell_type": "markdown",
   "metadata": {
    "papermill": {
     "duration": 0.040871,
     "end_time": "2020-10-19T20:13:58.701609",
     "exception": false,
     "start_time": "2020-10-19T20:13:58.660738",
     "status": "completed"
    },
    "tags": []
   },
   "source": [
    "# Plotting the changes in loss over the epochs\n",
    "\n",
    "Execute the following to plot the graph of loss against number of epochs - this depends on whichever point you chose to stop the execution of the previous cell. The model may be in-between epochs with its training, but it'll show the loss up until the last complete epoch only."
   ]
  },
  {
   "cell_type": "code",
   "execution_count": 15,
   "metadata": {
    "execution": {
     "iopub.execute_input": "2020-10-19T20:13:58.791400Z",
     "iopub.status.busy": "2020-10-19T20:13:58.790554Z",
     "iopub.status.idle": "2020-10-19T20:13:58.933798Z",
     "shell.execute_reply": "2020-10-19T20:13:58.933213Z"
    },
    "papermill": {
     "duration": 0.191153,
     "end_time": "2020-10-19T20:13:58.933911",
     "exception": false,
     "start_time": "2020-10-19T20:13:58.742758",
     "status": "completed"
    },
    "tags": []
   },
   "outputs": [
    {
     "data": {
      "image/png": "[encoded data removed]",
      "text/plain": [
       "<Figure size 432x288 with 1 Axes>"
      ]
     },
     "metadata": {
      "needs_background": "light"
     },
     "output_type": "display_data"
    }
   ],
   "source": [
    "import copy\n",
    "\n",
    "runs_mod = copy.deepcopy(runs)\n",
    "for i in range(len(runs)):\n",
    "    runs_mod[i] = runs[i] + 1\n",
    "\n",
    "plt.plot(runs_mod, losses)\n",
    "plt.xlabel(\"Epochs\")\n",
    "plt.ylabel(\"CrossEntropy Loss\")\n",
    "plt.show()"
   ]
  },
  {
   "cell_type": "markdown",
   "metadata": {
    "papermill": {
     "duration": 0.042798,
     "end_time": "2020-10-19T20:13:59.020649",
     "exception": false,
     "start_time": "2020-10-19T20:13:58.977851",
     "status": "completed"
    },
    "tags": []
   },
   "source": [
    "# Making predictions on test-set\n",
    "\n",
    "The model is now trained (to whatever epoch you stopped the execution of the training cell at) and can now be used to make predictions on the test set. The weights and biases of the trained model may be checked by calling `model.state_dict()\n",
    "\n",
    "Converting test dataset to `dtype=torch.Tensor`, and passing it through the model:"
   ]
  },
  {
   "cell_type": "code",
   "execution_count": 16,
   "metadata": {
    "execution": {
     "iopub.execute_input": "2020-10-19T20:13:59.114669Z",
     "iopub.status.busy": "2020-10-19T20:13:59.114011Z",
     "iopub.status.idle": "2020-10-19T20:14:07.453090Z",
     "shell.execute_reply": "2020-10-19T20:14:07.452116Z"
    },
    "papermill": {
     "duration": 8.389277,
     "end_time": "2020-10-19T20:14:07.453230",
     "exception": false,
     "start_time": "2020-10-19T20:13:59.063953",
     "status": "completed"
    },
    "tags": []
   },
   "outputs": [],
   "source": [
    "X_test = []\n",
    "\n",
    "for i in test.id:\n",
    "    img = Image.open('../input/mnist-but-chinese/MNIST_Chinese_Hackathon/Testing_Data/' + str(i))\n",
    "    img_n = np.asarray(img)\n",
    "    img_n = img_n/255\n",
    "    img_n = (img_n - 0.5)/0.5\n",
    "    X_test.append(img_n)\n",
    "\n",
    "X_test = np.array(X_test)\n",
    "X_test = X_test.astype(np.float32)\n",
    "X_test = X_test.reshape(5000, 1, 64, 64)\n",
    "X_test  = torch.from_numpy(X_test)"
   ]
  },
  {
   "cell_type": "code",
   "execution_count": 17,
   "metadata": {
    "execution": {
     "iopub.execute_input": "2020-10-19T20:14:07.544517Z",
     "iopub.status.busy": "2020-10-19T20:14:07.543228Z",
     "iopub.status.idle": "2020-10-19T20:14:07.575642Z",
     "shell.execute_reply": "2020-10-19T20:14:07.574942Z"
    },
    "papermill": {
     "duration": 0.079658,
     "end_time": "2020-10-19T20:14:07.575778",
     "exception": false,
     "start_time": "2020-10-19T20:14:07.496120",
     "status": "completed"
    },
    "tags": []
   },
   "outputs": [],
   "source": [
    "test_preds = model(X_test.cuda())"
   ]
  },
  {
   "cell_type": "markdown",
   "metadata": {
    "papermill": {
     "duration": 0.066537,
     "end_time": "2020-10-19T20:14:07.709716",
     "exception": false,
     "start_time": "2020-10-19T20:14:07.643179",
     "status": "completed"
    },
    "tags": []
   },
   "source": [
    "The above is the raw output from the model, for the test set. This needs to be passed into the `nn.functional.softmax` function, so that probabilities (that sum up to 1) are returned."
   ]
  },
  {
   "cell_type": "code",
   "execution_count": 18,
   "metadata": {
    "execution": {
     "iopub.execute_input": "2020-10-19T20:14:07.869829Z",
     "iopub.status.busy": "2020-10-19T20:14:07.868427Z",
     "iopub.status.idle": "2020-10-19T20:14:07.872430Z",
     "shell.execute_reply": "2020-10-19T20:14:07.873273Z"
    },
    "papermill": {
     "duration": 0.073011,
     "end_time": "2020-10-19T20:14:07.873467",
     "exception": false,
     "start_time": "2020-10-19T20:14:07.800456",
     "status": "completed"
    },
    "tags": []
   },
   "outputs": [
    {
     "name": "stderr",
     "output_type": "stream",
     "text": [
      "/opt/conda/lib/python3.7/site-packages/ipykernel_launcher.py:3: UserWarning: Implicit dimension choice for softmax has been deprecated. Change the call to include dim=X as an argument.\n",
      "  This is separate from the ipykernel package so we can avoid doing imports until\n"
     ]
    }
   ],
   "source": [
    "from torch.nn import functional as F\n",
    "\n",
    "p = F.softmax(test_preds).data"
   ]
  },
  {
   "cell_type": "markdown",
   "metadata": {
    "papermill": {
     "duration": 0.060653,
     "end_time": "2020-10-19T20:14:07.995982",
     "exception": false,
     "start_time": "2020-10-19T20:14:07.935329",
     "status": "completed"
    },
    "tags": []
   },
   "source": [
    "The following cell will convert the predictions into a CPU Tensor from a GPU/CUDA Tensor:"
   ]
  },
  {
   "cell_type": "code",
   "execution_count": 19,
   "metadata": {
    "execution": {
     "iopub.execute_input": "2020-10-19T20:14:08.125303Z",
     "iopub.status.busy": "2020-10-19T20:14:08.123998Z",
     "iopub.status.idle": "2020-10-19T20:14:08.127265Z",
     "shell.execute_reply": "2020-10-19T20:14:08.126687Z"
    },
    "papermill": {
     "duration": 0.069951,
     "end_time": "2020-10-19T20:14:08.127398",
     "exception": false,
     "start_time": "2020-10-19T20:14:08.057447",
     "status": "completed"
    },
    "tags": []
   },
   "outputs": [],
   "source": [
    "p = p.cpu()"
   ]
  },
  {
   "cell_type": "markdown",
   "metadata": {
    "papermill": {
     "duration": 0.05541,
     "end_time": "2020-10-19T20:14:08.246704",
     "exception": false,
     "start_time": "2020-10-19T20:14:08.191294",
     "status": "completed"
    },
    "tags": []
   },
   "source": [
    "Note the fact that the choice of dimension needs to be explicitly specified. I am saved from that headache (for now) by the Jupyter kernel. Good guy Jupyter!\n",
    "\n",
    "The `softmax` probability outputs are now passed through the `argmax` function, which returns the index of the element with the highest probability. This is great for us, since our encodings for the numerals are from 1-15. \n",
    "\n",
    "**HOWEVER**, the `argmax` function's outputs begin from `0` (as is the convention with Python), so care needs to be taken to append the correct values. This can easily be achieved adding 1 to the output.\n",
    "\n",
    "**ALSO**, since the input is a tensor, even though the `argmax` output is a single number, it will be of `dtype=<torch.Tensor>`. Since it doesn't make sense to append a `torch.Tensor` to a `DataFrame`, I'll need to pull the numeric value of the `argmax` output from the `torch.Tensor`. This is done by using the `.item()` method in `PyTorch`."
   ]
  },
  {
   "cell_type": "code",
   "execution_count": 20,
   "metadata": {
    "execution": {
     "iopub.execute_input": "2020-10-19T20:14:08.346923Z",
     "iopub.status.busy": "2020-10-19T20:14:08.346080Z",
     "iopub.status.idle": "2020-10-19T20:14:08.658468Z",
     "shell.execute_reply": "2020-10-19T20:14:08.658946Z"
    },
    "papermill": {
     "duration": 0.368743,
     "end_time": "2020-10-19T20:14:08.659109",
     "exception": false,
     "start_time": "2020-10-19T20:14:08.290366",
     "status": "completed"
    },
    "tags": []
   },
   "outputs": [],
   "source": [
    "code = []\n",
    "\n",
    "for i in range(len(p)):\n",
    "    cache = np.argmax(p[i])\n",
    "    code.append(cache.item() + 1)"
   ]
  },
  {
   "cell_type": "markdown",
   "metadata": {
    "papermill": {
     "duration": 0.062277,
     "end_time": "2020-10-19T20:14:08.788235",
     "exception": false,
     "start_time": "2020-10-19T20:14:08.725958",
     "status": "completed"
    },
    "tags": []
   },
   "source": [
    "***Sanity check*** - looking at the number of elements, and at the distribution of unique values."
   ]
  },
  {
   "cell_type": "code",
   "execution_count": 21,
   "metadata": {
    "execution": {
     "iopub.execute_input": "2020-10-19T20:14:08.920866Z",
     "iopub.status.busy": "2020-10-19T20:14:08.919957Z",
     "iopub.status.idle": "2020-10-19T20:14:08.934543Z",
     "shell.execute_reply": "2020-10-19T20:14:08.933446Z"
    },
    "papermill": {
     "duration": 0.082509,
     "end_time": "2020-10-19T20:14:08.934710",
     "exception": false,
     "start_time": "2020-10-19T20:14:08.852201",
     "status": "completed"
    },
    "tags": []
   },
   "outputs": [
    {
     "name": "stdout",
     "output_type": "stream",
     "text": [
      "The length of the set of predicted values is:  5000\n",
      "\n",
      "Value vs. Value Counts:\n",
      "3     431\n",
      "15    394\n",
      "7     363\n",
      "5     349\n",
      "6     347\n",
      "1     338\n",
      "13    337\n",
      "11    322\n",
      "8     320\n",
      "2     319\n",
      "14    314\n",
      "9     313\n",
      "10    300\n",
      "12    300\n",
      "4     253\n",
      "dtype: int64\n"
     ]
    }
   ],
   "source": [
    "print(\"The length of the set of predicted values is: \", len(code))\n",
    "print(\"\\nValue vs. Value Counts:\")\n",
    "print(pd.Series(code).value_counts())"
   ]
  },
  {
   "cell_type": "markdown",
   "metadata": {
    "papermill": {
     "duration": 0.060024,
     "end_time": "2020-10-19T20:14:09.059724",
     "exception": false,
     "start_time": "2020-10-19T20:14:08.999700",
     "status": "completed"
    },
    "tags": []
   },
   "source": [
    "# Making the submission file\n",
    "\n",
    "The `submission.csv` needs to be in the given format: one column for `id` (which is also the file-name of the image in `./Testing_Data`) and one column for `code`, which includes the encodings of the predicted labels (as per the given naming convention).\n",
    "\n",
    "Viewing the first 10 entries of the `DataFrame`:"
   ]
  },
  {
   "cell_type": "code",
   "execution_count": 22,
   "metadata": {
    "execution": {
     "iopub.execute_input": "2020-10-19T20:14:09.204896Z",
     "iopub.status.busy": "2020-10-19T20:14:09.203931Z",
     "iopub.status.idle": "2020-10-19T20:14:09.214824Z",
     "shell.execute_reply": "2020-10-19T20:14:09.216002Z"
    },
    "papermill": {
     "duration": 0.091008,
     "end_time": "2020-10-19T20:14:09.216206",
     "exception": false,
     "start_time": "2020-10-19T20:14:09.125198",
     "status": "completed"
    },
    "tags": []
   },
   "outputs": [
    {
     "data": {
      "text/html": [
       "<div>\n",
       "<style scoped>\n",
       "    .dataframe tbody tr th:only-of-type {\n",
       "        vertical-align: middle;\n",
       "    }\n",
       "\n",
       "    .dataframe tbody tr th {\n",
       "        vertical-align: top;\n",
       "    }\n",
       "\n",
       "    .dataframe thead th {\n",
       "        text-align: right;\n",
       "    }\n",
       "</style>\n",
       "<table border=\"1\" class=\"dataframe\">\n",
       "  <thead>\n",
       "    <tr style=\"text-align: right;\">\n",
       "      <th></th>\n",
       "      <th>id</th>\n",
       "      <th>code</th>\n",
       "    </tr>\n",
       "  </thead>\n",
       "  <tbody>\n",
       "    <tr>\n",
       "      <th>0</th>\n",
       "      <td>1</td>\n",
       "      <td>14</td>\n",
       "    </tr>\n",
       "    <tr>\n",
       "      <th>1</th>\n",
       "      <td>2</td>\n",
       "      <td>9</td>\n",
       "    </tr>\n",
       "    <tr>\n",
       "      <th>2</th>\n",
       "      <td>3</td>\n",
       "      <td>3</td>\n",
       "    </tr>\n",
       "    <tr>\n",
       "      <th>3</th>\n",
       "      <td>4</td>\n",
       "      <td>11</td>\n",
       "    </tr>\n",
       "    <tr>\n",
       "      <th>4</th>\n",
       "      <td>5</td>\n",
       "      <td>15</td>\n",
       "    </tr>\n",
       "    <tr>\n",
       "      <th>5</th>\n",
       "      <td>6</td>\n",
       "      <td>9</td>\n",
       "    </tr>\n",
       "    <tr>\n",
       "      <th>6</th>\n",
       "      <td>7</td>\n",
       "      <td>1</td>\n",
       "    </tr>\n",
       "    <tr>\n",
       "      <th>7</th>\n",
       "      <td>8</td>\n",
       "      <td>1</td>\n",
       "    </tr>\n",
       "    <tr>\n",
       "      <th>8</th>\n",
       "      <td>9</td>\n",
       "      <td>14</td>\n",
       "    </tr>\n",
       "    <tr>\n",
       "      <th>9</th>\n",
       "      <td>10</td>\n",
       "      <td>3</td>\n",
       "    </tr>\n",
       "  </tbody>\n",
       "</table>\n",
       "</div>"
      ],
      "text/plain": [
       "   id  code\n",
       "0   1    14\n",
       "1   2     9\n",
       "2   3     3\n",
       "3   4    11\n",
       "4   5    15\n",
       "5   6     9\n",
       "6   7     1\n",
       "7   8     1\n",
       "8   9    14\n",
       "9  10     3"
      ]
     },
     "execution_count": 22,
     "metadata": {},
     "output_type": "execute_result"
    }
   ],
   "source": [
    "test['code'] = code\n",
    "test.head(10)"
   ]
  },
  {
   "cell_type": "markdown",
   "metadata": {
    "papermill": {
     "duration": 0.060766,
     "end_time": "2020-10-19T20:14:09.340435",
     "exception": false,
     "start_time": "2020-10-19T20:14:09.279669",
     "status": "completed"
    },
    "tags": []
   },
   "source": [
    "Checking the distribution of the predicted labels:"
   ]
  },
  {
   "cell_type": "code",
   "execution_count": 23,
   "metadata": {
    "execution": {
     "iopub.execute_input": "2020-10-19T20:14:09.445612Z",
     "iopub.status.busy": "2020-10-19T20:14:09.444438Z",
     "iopub.status.idle": "2020-10-19T20:14:09.451739Z",
     "shell.execute_reply": "2020-10-19T20:14:09.451265Z"
    },
    "papermill": {
     "duration": 0.05647,
     "end_time": "2020-10-19T20:14:09.451837",
     "exception": false,
     "start_time": "2020-10-19T20:14:09.395367",
     "status": "completed"
    },
    "tags": []
   },
   "outputs": [
    {
     "data": {
      "text/plain": [
       "3     431\n",
       "15    394\n",
       "7     363\n",
       "5     349\n",
       "6     347\n",
       "1     338\n",
       "13    337\n",
       "11    322\n",
       "8     320\n",
       "2     319\n",
       "14    314\n",
       "9     313\n",
       "10    300\n",
       "12    300\n",
       "4     253\n",
       "Name: code, dtype: int64"
      ]
     },
     "execution_count": 23,
     "metadata": {},
     "output_type": "execute_result"
    }
   ],
   "source": [
    "test.code.value_counts()"
   ]
  },
  {
   "cell_type": "markdown",
   "metadata": {
    "papermill": {
     "duration": 0.048509,
     "end_time": "2020-10-19T20:14:09.545772",
     "exception": false,
     "start_time": "2020-10-19T20:14:09.497263",
     "status": "completed"
    },
    "tags": []
   },
   "source": [
    "And finally, writing the `test` `DataFrame` to a `.csv`:"
   ]
  },
  {
   "cell_type": "code",
   "execution_count": 24,
   "metadata": {
    "execution": {
     "iopub.execute_input": "2020-10-19T20:14:09.642023Z",
     "iopub.status.busy": "2020-10-19T20:14:09.641243Z",
     "iopub.status.idle": "2020-10-19T20:14:09.893072Z",
     "shell.execute_reply": "2020-10-19T20:14:09.891569Z"
    },
    "papermill": {
     "duration": 0.301347,
     "end_time": "2020-10-19T20:14:09.893192",
     "exception": false,
     "start_time": "2020-10-19T20:14:09.591845",
     "status": "completed"
    },
    "tags": []
   },
   "outputs": [],
   "source": [
    "test.to_csv('./submission.csv', index = False)"
   ]
  },
  {
   "cell_type": "markdown",
   "metadata": {},
   "source": [
    "Making this submission to the Kaggle competition, I got an accuracy score of `90.707%` on the private and `100%` on the public leaderboard. This is worse than my best submission of `93.535%` private/`92%` public. The reason for this could be that my best submission was trained for `16-17` epochs (intermediate stoppage), while the one on Kaggle (i.e. this notebook) was trained for `15` complete epochs.\n",
    "\n",
    "This is also dependent on the weight initialisation - we used <a href = \"https://arxiv.org/pdf/1502.01852v1.pdf\" target = \"_blank\">the default initialiser</a>."
   ]
  },
  {
   "cell_type": "markdown",
   "metadata": {
    "papermill": {
     "duration": 0.044767,
     "end_time": "2020-10-19T20:14:09.983996",
     "exception": false,
     "start_time": "2020-10-19T20:14:09.939229",
     "status": "completed"
    },
    "tags": []
   },
   "source": [
    "# Fin!\n",
    "\n",
    "Please consider checking out <a href = \"https://www.linkedin.com/in/utkarshc99/\" target = \"_blank\">my LinkedIn profile</a>! I'll be glad to receive any feedback on this notebook, or even just to connect.\n",
    "\n",
    "Please drop an upvote or a comment if you appreciate this submission!"
   ]
  }
 ],
 "metadata": {
  "kernelspec": {
   "display_name": "Python 3",
   "language": "python",
   "name": "python3"
  },
  "language_info": {
   "codemirror_mode": {
    "name": "ipython",
    "version": 3
   },
   "file_extension": ".py",
   "mimetype": "text/x-python",
   "name": "python",
   "nbconvert_exporter": "python",
   "pygments_lexer": "ipython3",
   "version": "3.7.6"
  },
  "papermill": {
   "duration": 552.934925,
   "end_time": "2020-10-19T20:14:11.161563",
   "environment_variables": {},
   "exception": null,
   "input_path": "__notebook__.ipynb",
   "output_path": "__notebook__.ipynb",
   "parameters": {},
   "start_time": "2020-10-19T20:04:58.226638",
   "version": "2.1.0"
  }
 },
 "nbformat": 4,
 "nbformat_minor": 4
}
